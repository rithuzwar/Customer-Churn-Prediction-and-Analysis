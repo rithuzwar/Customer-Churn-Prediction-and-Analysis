{
  "nbformat": 4,
  "nbformat_minor": 0,
  "metadata": {
    "colab": {
      "provenance": [],
      "authorship_tag": "ABX9TyNIa/f/qkypC1UE0uYePYDl",
      "include_colab_link": true
    },
    "kernelspec": {
      "name": "python3",
      "display_name": "Python 3"
    },
    "language_info": {
      "name": "python"
    }
  },
  "cells": [
    {
      "cell_type": "markdown",
      "metadata": {
        "id": "view-in-github",
        "colab_type": "text"
      },
      "source": [
        "<a href=\"https://colab.research.google.com/github/rithuzwar/Customer-Churn-Prediction-and-Analysis/blob/main/PROJECT_1_CHURN_PREDICTION_MODEL.ipynb\" target=\"_parent\"><img src=\"https://colab.research.google.com/assets/colab-badge.svg\" alt=\"Open In Colab\"/></a>"
      ]
    },
    {
      "cell_type": "code",
      "source": [
        "import pandas as pd\n",
        "\n",
        "df = pd.read_csv('Churn_Modelling.csv')\n",
        "print(df.head())"
      ],
      "metadata": {
        "colab": {
          "base_uri": "https://localhost:8080/"
        },
        "id": "dSBTUHUoj9kA",
        "outputId": "ac737b2e-d3c9-4a12-b5c9-af49fe48121d"
      },
      "execution_count": 1,
      "outputs": [
        {
          "output_type": "stream",
          "name": "stdout",
          "text": [
            "   RowNumber  CustomerId   Surname  CreditScore Geography  Gender  Age  \\\n",
            "0          1    15634602  Hargrave          619    France  Female   42   \n",
            "1          2    15647311      Hill          608     Spain  Female   41   \n",
            "2          3    15619304      Onio          502    France  Female   42   \n",
            "3          4    15701354      Boni          699    France  Female   39   \n",
            "4          5    15737888  Mitchell          850     Spain  Female   43   \n",
            "\n",
            "   Tenure    Balance  NumOfProducts  HasCrCard  IsActiveMember  \\\n",
            "0       2       0.00              1          1               1   \n",
            "1       1   83807.86              1          0               1   \n",
            "2       8  159660.80              3          1               0   \n",
            "3       1       0.00              2          0               0   \n",
            "4       2  125510.82              1          1               1   \n",
            "\n",
            "   EstimatedSalary  Exited  \n",
            "0        101348.88       1  \n",
            "1        112542.58       0  \n",
            "2        113931.57       1  \n",
            "3         93826.63       0  \n",
            "4         79084.10       0  \n"
          ]
        }
      ]
    },
    {
      "cell_type": "code",
      "source": [
        "df = df.drop(['RowNumber', 'Surname'], axis=1)\n",
        "\n",
        "print(df.head())"
      ],
      "metadata": {
        "colab": {
          "base_uri": "https://localhost:8080/"
        },
        "id": "RYyPcPsOj9f8",
        "outputId": "7f74c6e0-2236-4230-a2f3-57f1e10d937a"
      },
      "execution_count": 2,
      "outputs": [
        {
          "output_type": "stream",
          "name": "stdout",
          "text": [
            "   CustomerId  CreditScore Geography  Gender  Age  Tenure    Balance  \\\n",
            "0    15634602          619    France  Female   42       2       0.00   \n",
            "1    15647311          608     Spain  Female   41       1   83807.86   \n",
            "2    15619304          502    France  Female   42       8  159660.80   \n",
            "3    15701354          699    France  Female   39       1       0.00   \n",
            "4    15737888          850     Spain  Female   43       2  125510.82   \n",
            "\n",
            "   NumOfProducts  HasCrCard  IsActiveMember  EstimatedSalary  Exited  \n",
            "0              1          1               1        101348.88       1  \n",
            "1              1          0               1        112542.58       0  \n",
            "2              3          1               0        113931.57       1  \n",
            "3              2          0               0         93826.63       0  \n",
            "4              1          1               1         79084.10       0  \n"
          ]
        }
      ]
    },
    {
      "cell_type": "code",
      "source": [
        "# Features and Target\n",
        "X = df.drop('Exited', axis=1)  # All columns except the target\n",
        "y = df['Exited']               # Target column"
      ],
      "metadata": {
        "id": "p-qYNlGnkZte"
      },
      "execution_count": 4,
      "outputs": []
    },
    {
      "cell_type": "code",
      "source": [
        "from sklearn.model_selection import train_test_split\n",
        "\n",
        "# Split into training and testing sets\n",
        "X_train_raw, X_test_raw, y_train, y_test = train_test_split(X, y, test_size=0.2, random_state=42)\n",
        "\n",
        "print(X_train_raw.shape, X_test_raw.shape)\n"
      ],
      "metadata": {
        "colab": {
          "base_uri": "https://localhost:8080/"
        },
        "id": "L143mbTqlB9X",
        "outputId": "404ab13d-60e3-4902-9c31-a1ae01d00590"
      },
      "execution_count": 5,
      "outputs": [
        {
          "output_type": "stream",
          "name": "stdout",
          "text": [
            "(8000, 11) (2000, 11)\n"
          ]
        }
      ]
    },
    {
      "cell_type": "code",
      "source": [
        "# One-hot encode Geography and Gender\n",
        "X_train_encoded = pd.get_dummies(X_train_raw, drop_first=True)\n",
        "X_test_encoded = pd.get_dummies(X_test_raw, drop_first=True)\n",
        "\n",
        "# Reindex test set columns to match train columns (in case dummy columns mismatch)\n",
        "X_test_encoded = X_test_encoded.reindex(columns=X_train_encoded.columns, fill_value=0)\n",
        "\n",
        "print(X_train_encoded.head())\n"
      ],
      "metadata": {
        "colab": {
          "base_uri": "https://localhost:8080/"
        },
        "id": "GfGeb4GNlYJG",
        "outputId": "fb0d8370-48b6-4df7-a7b0-14dbf231f387"
      },
      "execution_count": 6,
      "outputs": [
        {
          "output_type": "stream",
          "name": "stdout",
          "text": [
            "      CustomerId  CreditScore  Age  Tenure    Balance  NumOfProducts  \\\n",
            "9254    15601116          686   32       6       0.00              2   \n",
            "1561    15766374          632   42       4  119624.60              2   \n",
            "1670    15716994          559   24       3  114739.92              1   \n",
            "6087    15730759          561   27       9  135637.00              1   \n",
            "6669    15797900          517   56       9  142147.32              1   \n",
            "\n",
            "      HasCrCard  IsActiveMember  EstimatedSalary  Geography_Germany  \\\n",
            "9254          1               1        179093.26              False   \n",
            "1561          1               1        195978.86               True   \n",
            "1670          1               0         85891.02              False   \n",
            "6087          1               0        153080.40              False   \n",
            "6669          0               0         39488.04              False   \n",
            "\n",
            "      Geography_Spain  Gender_Male  \n",
            "9254            False         True  \n",
            "1561            False         True  \n",
            "1670             True         True  \n",
            "6087            False        False  \n",
            "6669            False         True  \n"
          ]
        }
      ]
    },
    {
      "cell_type": "code",
      "source": [
        "#3.2\n",
        "from sklearn.preprocessing import StandardScaler\n",
        "\n",
        "# Initialize scaler\n",
        "scaler = StandardScaler()\n",
        "\n",
        "# Scale the encoded data\n",
        "X_train_scaled = scaler.fit_transform(X_train_encoded)\n",
        "X_test_scaled = scaler.transform(X_test_encoded)\n",
        "\n",
        "print(X_train_scaled[:5])  # Preview scaled data\n"
      ],
      "metadata": {
        "colab": {
          "base_uri": "https://localhost:8080/"
        },
        "id": "7f8va7iOljvU",
        "outputId": "601c64cd-483c-40bf-e96e-f00182f1b271"
      },
      "execution_count": 7,
      "outputs": [
        {
          "output_type": "stream",
          "name": "stdout",
          "text": [
            "[[-1.24645641  0.35649971 -0.6557859   0.34567966 -1.21847056  0.80843615\n",
            "   0.64920267  0.97481699  1.36766974 -0.57946723 -0.57638802  0.91324755]\n",
            " [ 1.05381124 -0.20389777  0.29493847 -0.3483691   0.69683765  0.80843615\n",
            "   0.64920267  0.97481699  1.6612541   1.72572313 -0.57638802  0.91324755]\n",
            " [ 0.3664786  -0.96147213 -1.41636539 -0.69539349  0.61862909 -0.91668767\n",
            "   0.64920267 -1.02583358 -0.25280688 -0.57946723  1.73494238  0.91324755]\n",
            " [ 0.5580771  -0.94071667 -1.13114808  1.38675281  0.95321202 -0.91668767\n",
            "   0.64920267 -1.02583358  0.91539272 -0.57946723 -0.57638802 -1.09499335]\n",
            " [ 1.49262956 -1.39733684  1.62595257  1.38675281  1.05744869 -0.91668767\n",
            "  -1.54035103 -1.02583358 -1.05960019 -0.57946723 -0.57638802  0.91324755]]\n"
          ]
        }
      ]
    },
    {
      "cell_type": "code",
      "source": [
        "#4.1\n",
        "from sklearn.linear_model import LogisticRegression\n",
        "\n",
        "# Initialize and train the model\n",
        "model = LogisticRegression(max_iter=5000, random_state=42)\n",
        "model.fit(X_train_scaled, y_train)\n",
        "\n",
        "print(\"Model training complete. Ready for predictions!\")\n"
      ],
      "metadata": {
        "colab": {
          "base_uri": "https://localhost:8080/"
        },
        "id": "jyFIw5sUl0cT",
        "outputId": "bb881a32-b85c-48c4-ffcd-54319d430ba0"
      },
      "execution_count": 8,
      "outputs": [
        {
          "output_type": "stream",
          "name": "stdout",
          "text": [
            "Model training complete. Ready for predictions!\n"
          ]
        }
      ]
    },
    {
      "cell_type": "code",
      "source": [
        "# Make predictions\n",
        "y_pred = model.predict(X_test_scaled)\n",
        "\n",
        "# Predict probabilities (for churn probability insights)\n",
        "probs = model.predict_proba(X_test_scaled)[:, 1]\n"
      ],
      "metadata": {
        "id": "04NEitAal6kj"
      },
      "execution_count": 10,
      "outputs": []
    },
    {
      "cell_type": "code",
      "source": [
        "# Create results DataFrame using unscaled, human-readable test set\n",
        "results_df = X_test_raw.copy()\n",
        "\n",
        "# Add Actual Churn\n",
        "results_df['Actual_Churn'] = y_test.reset_index(drop=True)\n",
        "\n",
        "# Add Predicted Churn\n",
        "import pandas as pd\n",
        "results_df['Predicted_Churn'] = pd.Series(y_pred).reset_index(drop=True)\n",
        "\n",
        "# Add Churn Probability\n",
        "results_df['Churn_Probability'] = probs\n",
        "\n",
        "# Save to CSV\n",
        "results_df.to_csv('rf_churn_results_for_powerbi.csv', index=False)\n",
        "\n",
        "print(\"Results exported successfully for Power BI! 🚀\")\n"
      ],
      "metadata": {
        "colab": {
          "base_uri": "https://localhost:8080/"
        },
        "id": "zBp9GEh8mIwY",
        "outputId": "891aec5d-0183-42aa-9eb8-bebd19d22d2c"
      },
      "execution_count": 11,
      "outputs": [
        {
          "output_type": "stream",
          "name": "stdout",
          "text": [
            "Results exported successfully for Power BI! 🚀\n"
          ]
        }
      ]
    },
    {
      "cell_type": "code",
      "source": [
        "#SMOTE\n",
        "# 1) Import Counter\n",
        "from collections import Counter\n",
        "\n",
        "# 2) Apply SMOTE to the scaled training data\n",
        "from imblearn.over_sampling import SMOTE\n",
        "\n",
        "smote = SMOTE(random_state=42)\n",
        "X_train_res, y_train_res = smote.fit_resample(X_train_scaled, y_train)\n",
        "\n",
        "# 3) Now you can inspect the class distribution\n",
        "print(f\"Resampled dataset shape: {Counter(y_train_res)}\")"
      ],
      "metadata": {
        "colab": {
          "base_uri": "https://localhost:8080/"
        },
        "id": "c67Rd4bEmk_t",
        "outputId": "80f8182e-eebe-4488-e0c8-4dd9199f6fc2"
      },
      "execution_count": 13,
      "outputs": [
        {
          "output_type": "stream",
          "name": "stdout",
          "text": [
            "Resampled dataset shape: Counter({0: 6356, 1: 6356})\n"
          ]
        }
      ]
    },
    {
      "cell_type": "code",
      "source": [
        "#XG BOOST\n",
        "# 4) Train XGBoost\n",
        "from xgboost import XGBClassifier\n",
        "\n",
        "xgb_model = XGBClassifier(use_label_encoder=False, eval_metric='logloss', random_state=42)\n",
        "xgb_model.fit(X_train_res, y_train_res)\n",
        "\n",
        "# 5) Predict on the (scaled) test set\n",
        "y_pred_xgb   = xgb_model.predict(X_test_scaled)\n",
        "probs_xgb    = xgb_model.predict_proba(X_test_scaled)[:, 1]\n",
        "\n",
        "# 6) Evaluate\n",
        "from sklearn.metrics import classification_report, accuracy_score\n",
        "\n",
        "print(\"XGBoost Classification Report:\\n\", classification_report(y_test, y_pred_xgb))\n",
        "print(f\"XGBoost Accuracy: {accuracy_score(y_test, y_pred_xgb):.4f}\")\n"
      ],
      "metadata": {
        "colab": {
          "base_uri": "https://localhost:8080/"
        },
        "id": "pXHFsWcxnAqm",
        "outputId": "4e323cf3-f426-4f90-fe33-e874d5fa41be"
      },
      "execution_count": 14,
      "outputs": [
        {
          "output_type": "stream",
          "name": "stderr",
          "text": [
            "/usr/local/lib/python3.11/dist-packages/xgboost/core.py:158: UserWarning: [10:20:00] WARNING: /workspace/src/learner.cc:740: \n",
            "Parameters: { \"use_label_encoder\" } are not used.\n",
            "\n",
            "  warnings.warn(smsg, UserWarning)\n"
          ]
        },
        {
          "output_type": "stream",
          "name": "stdout",
          "text": [
            "XGBoost Classification Report:\n",
            "               precision    recall  f1-score   support\n",
            "\n",
            "           0       0.90      0.93      0.91      1607\n",
            "           1       0.66      0.58      0.62       393\n",
            "\n",
            "    accuracy                           0.86      2000\n",
            "   macro avg       0.78      0.75      0.77      2000\n",
            "weighted avg       0.85      0.86      0.86      2000\n",
            "\n",
            "XGBoost Accuracy: 0.8590\n"
          ]
        }
      ]
    },
    {
      "cell_type": "code",
      "source": [
        "results_df = X_test_raw.copy()\n",
        "results_df['Actual_Churn']      = y_test.reset_index(drop=True)\n",
        "results_df['Predicted_Churn']   = pd.Series(y_pred_xgb).reset_index(drop=True)\n",
        "results_df['Churn_Probability'] = probs_xgb\n",
        "results_df.to_csv('xgb_churn_results_for_powerbi.csv', index=False)\n"
      ],
      "metadata": {
        "id": "7uxQSPN1nQD4"
      },
      "execution_count": 15,
      "outputs": []
    }
  ]
}